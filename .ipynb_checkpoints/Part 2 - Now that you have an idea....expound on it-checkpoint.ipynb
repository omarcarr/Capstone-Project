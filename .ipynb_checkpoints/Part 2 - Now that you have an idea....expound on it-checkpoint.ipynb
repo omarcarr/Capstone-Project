{
 "cells": [
  {
   "cell_type": "markdown",
   "metadata": {},
   "source": [
    "# Capstone - Part 2"
   ]
  },
  {
   "cell_type": "markdown",
   "metadata": {},
   "source": [
    "**Proposal** - Of the three proposals chosen, I wanted to go with one that had not appeared to be done before.  I wanted to decide once and for all, who the Greatest Basketball Player of All Time was."
   ]
  },
  {
   "cell_type": "markdown",
   "metadata": {},
   "source": [
    "**Measurables** - This project will be dealing with PCA and some logistic regression"
   ]
  },
  {
   "cell_type": "code",
   "execution_count": null,
   "metadata": {},
   "outputs": [],
   "source": []
  },
  {
   "cell_type": "markdown",
   "metadata": {},
   "source": [
    " ## Pulling any data from Basketball Reference"
   ]
  },
  {
   "cell_type": "markdown",
   "metadata": {},
   "source": [
    "### Kareem Abdul-Jabbar"
   ]
  },
  {
   "cell_type": "code",
   "execution_count": 2,
   "metadata": {},
   "outputs": [],
   "source": [
    "import requests\n",
    "import pandas as pd\n",
    "from bs4 import BeautifulSoup"
   ]
  },
  {
   "cell_type": "code",
   "execution_count": 3,
   "metadata": {},
   "outputs": [
    {
     "data": {
      "text/plain": [
       "200"
      ]
     },
     "execution_count": 3,
     "metadata": {},
     "output_type": "execute_result"
    }
   ],
   "source": [
    "url = 'https://www.basketball-reference.com/players/a/abdulka01.html'\n",
    "res = requests.get(url)\n",
    "res.status_code"
   ]
  },
  {
   "cell_type": "code",
   "execution_count": 4,
   "metadata": {},
   "outputs": [],
   "source": [
    "soup = BeautifulSoup(res.content, 'lxml')"
   ]
  },
  {
   "cell_type": "code",
   "execution_count": null,
   "metadata": {},
   "outputs": [],
   "source": [
    "cap = []\n",
    "\n",
    "table = soup.find('table', {'id': 'per_game'})\n",
    "for row in table.find_all('tr')[1:]:\n",
    "        skyhook = {}\n",
    "        skyhook['Season'] = row.find('a').text\n",
    "        skyhook['Age'] = int(row.find('td', {'data-stat': 'age'}).text)\n",
    "        skyhook['Minutes Per Game'] = int(row.find('td', {'data-stat': 'mp_per_g'}).text)\n",
    "        skyhook['FG Per Game'] = int(row.find('td', {'data-stat': 'fg_per_g'}).text)\n",
    "        skyhook['FG Attempts Per Game'] = int(row.find('td', {'data-stat': 'fga_per_g'}).text)\n",
    "        skyhook['FG %'] = int(row.find('td', {'data-stat': 'fg_pct'}).text)\n",
    "        skyhook['3PT Per Game'] = int(row.find('td', {'data-stat': 'fg3_per_g'}).text)\n",
    "        skyhook['3PT Attempts Per Game'] = int(row.find('td', {'data-stat': 'fg3a_per_g'}).text)\n",
    "        skyhook['3PT %'] = int(row.find('td', {'data-stat': 'fg3_pct'}).text)\n",
    "        skyhook['2PT Per Game'] = int(row.find('td', {'data-stat': 'fg2_per_g'}).text)\n",
    "        skyhook['2PT Attempts Per Game'] = int(row.find('td', {'data-stat': 'fg2a_per_g'}).text)\n",
    "        skyhook['2PT %'] = int(row.find('td', {'data-stat': 'fg2_pct'}).text)\n",
    "        skyhook['Effective FG%'] = int(row.find('td', {'data-stat': 'efg_pct'}).text)\n",
    "        skyhook['FT Per Game'] = int(row.find('td', {'data-stat': 'ft_per_g'}).text)\n",
    "        skyhook['FT Attempts Per Game'] = int(row.find('td', {'data-stat': 'fta_per_g'}).text)\n",
    "        skyhook['FT %'] = int(row.find('td', {'data-stat': 'ft_pct'}).text)\n",
    "        skyhook['Offensive Reb Per Game'] = int(row.find('td', {'data-stat': 'orb_per_g'}).text)\n",
    "        skyhook['Defensive Reb Per Game'] = int(row.find('td', {'data-stat': 'drb_per_g'}).text)\n",
    "        skyhook['Total Reb Per Game'] = int(row.find('td', {'data-stat': 'trb_per_g'}).text)\n",
    "        skyhook['Assists Per Game'] = int(row.find('td', {'data-stat': 'ast_per_g'}).text)\n",
    "        skyhook['Steals Per Game'] = int(row.find('td', {'data-stat': 'stl_per_g'}).text)\n",
    "        skyhook['Blocks Per Game'] = int(row.find('td', {'data-stat': 'blk_per_g'}).text)\n",
    "        skyhook['Turnovers Per Game'] = int(row.find('td', {'data-stat': 'tov_per_g'}).text)\n",
    "        skyhook['Fouls Per Game'] = int(row.find('td', {'data-stat': 'pf_per_g'}).text)\n",
    "        skyhook['Points Per Game'] = int(row.find('td', {'data-stat': 'pts_per_g'}).text)\n",
    "        \n",
    "        cap.append(skyhook)"
   ]
  }
 ],
 "metadata": {
  "kernelspec": {
   "display_name": "Python 3",
   "language": "python",
   "name": "python3"
  },
  "language_info": {
   "codemirror_mode": {
    "name": "ipython",
    "version": 3
   },
   "file_extension": ".py",
   "mimetype": "text/x-python",
   "name": "python",
   "nbconvert_exporter": "python",
   "pygments_lexer": "ipython3",
   "version": "3.6.5"
  }
 },
 "nbformat": 4,
 "nbformat_minor": 2
}
